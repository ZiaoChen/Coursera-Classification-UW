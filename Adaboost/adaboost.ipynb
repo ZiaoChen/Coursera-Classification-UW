{
 "cells": [
  {
   "cell_type": "markdown",
   "metadata": {},
   "source": [
    "#### Read Data"
   ]
  },
  {
   "cell_type": "code",
   "execution_count": 1,
   "metadata": {},
   "outputs": [
    {
     "name": "stderr",
     "output_type": "stream",
     "text": [
      "[INFO] sframe.cython.cy_server: SFrame v2.1 started. Logging /tmp/sframe_server_1502940455.log\n"
     ]
    }
   ],
   "source": [
    "import sframe\n",
    "import numpy as np\n",
    "\n",
    "loans = sframe.SFrame('data1/')"
   ]
  },
  {
   "cell_type": "code",
   "execution_count": 3,
   "metadata": {},
   "outputs": [
    {
     "data": {
      "text/plain": [
       "['id',\n",
       " 'member_id',\n",
       " 'loan_amnt',\n",
       " 'funded_amnt',\n",
       " 'funded_amnt_inv',\n",
       " 'term',\n",
       " 'int_rate',\n",
       " 'installment',\n",
       " 'grade',\n",
       " 'sub_grade',\n",
       " 'emp_title',\n",
       " 'emp_length',\n",
       " 'home_ownership',\n",
       " 'annual_inc',\n",
       " 'is_inc_v',\n",
       " 'issue_d',\n",
       " 'loan_status',\n",
       " 'pymnt_plan',\n",
       " 'url',\n",
       " 'desc',\n",
       " 'purpose',\n",
       " 'title',\n",
       " 'zip_code',\n",
       " 'addr_state',\n",
       " 'dti',\n",
       " 'delinq_2yrs',\n",
       " 'earliest_cr_line',\n",
       " 'inq_last_6mths',\n",
       " 'mths_since_last_delinq',\n",
       " 'mths_since_last_record',\n",
       " 'open_acc',\n",
       " 'pub_rec',\n",
       " 'revol_bal',\n",
       " 'revol_util',\n",
       " 'total_acc',\n",
       " 'initial_list_status',\n",
       " 'out_prncp',\n",
       " 'out_prncp_inv',\n",
       " 'total_pymnt',\n",
       " 'total_pymnt_inv',\n",
       " 'total_rec_prncp',\n",
       " 'total_rec_int',\n",
       " 'total_rec_late_fee',\n",
       " 'recoveries',\n",
       " 'collection_recovery_fee',\n",
       " 'last_pymnt_d',\n",
       " 'last_pymnt_amnt',\n",
       " 'next_pymnt_d',\n",
       " 'last_credit_pull_d',\n",
       " 'collections_12_mths_ex_med',\n",
       " 'mths_since_last_major_derog',\n",
       " 'policy_code',\n",
       " 'not_compliant',\n",
       " 'status',\n",
       " 'inactive_loans',\n",
       " 'bad_loans',\n",
       " 'emp_length_num',\n",
       " 'grade_num',\n",
       " 'sub_grade_num',\n",
       " 'delinq_2yrs_zero',\n",
       " 'pub_rec_zero',\n",
       " 'collections_12_mths_zero',\n",
       " 'short_emp',\n",
       " 'payment_inc_ratio',\n",
       " 'final_d',\n",
       " 'last_delinq_none',\n",
       " 'last_record_none',\n",
       " 'last_major_derog_none']"
      ]
     },
     "execution_count": 3,
     "metadata": {},
     "output_type": "execute_result"
    }
   ],
   "source": [
    "loans.column_names()"
   ]
  },
  {
   "cell_type": "markdown",
   "metadata": {},
   "source": [
    "#### Modify the target column"
   ]
  },
  {
   "cell_type": "code",
   "execution_count": 4,
   "metadata": {
    "collapsed": true
   },
   "outputs": [],
   "source": [
    "loans['safe_loans'] = loans['bad_loans'].apply(lambda x : +1 if x==0 else -1)\n",
    "loans = loans.remove_column('bad_loans')"
   ]
  },
  {
   "cell_type": "markdown",
   "metadata": {},
   "source": [
    "#### Selecting features"
   ]
  },
  {
   "cell_type": "code",
   "execution_count": 7,
   "metadata": {
    "collapsed": true
   },
   "outputs": [],
   "source": [
    "target = 'safe_loans'\n",
    "features = ['grade',                     # grade of the loan (categorical)\n",
    "            'sub_grade_num',             # sub-grade of the loan as a number from 0 to 1\n",
    "            'short_emp',                 # one year or less of employment\n",
    "            'emp_length_num',            # number of years of employment\n",
    "            'home_ownership',            # home_ownership status: own, mortgage or rent\n",
    "            'dti',                       # debt to income ratio\n",
    "            'purpose',                   # the purpose of the loan\n",
    "            'payment_inc_ratio',         # ratio of the monthly payment to income\n",
    "            'delinq_2yrs',               # number of delinquincies\n",
    "             'delinq_2yrs_zero',          # no delinquincies in last 2 years\n",
    "            'inq_last_6mths',            # number of creditor inquiries in last 6 months\n",
    "            'last_delinq_none',          # has borrower had a delinquincy\n",
    "            'last_major_derog_none',     # has borrower had 90 day or worse rating\n",
    "            'open_acc',                  # number of open credit accounts\n",
    "            'pub_rec',                   # number of derogatory public records\n",
    "            'pub_rec_zero',              # no derogatory public records\n",
    "            'revol_util',                # percent of available credit being used\n",
    "            'total_rec_late_fee',        # total late fees received to day\n",
    "            'int_rate',                  # interest rate of the loan\n",
    "            'total_rec_int',             # interest received to date\n",
    "            'annual_inc',                # annual income of borrower\n",
    "            'funded_amnt',               # amount committed to the loan\n",
    "            'funded_amnt_inv',           # amount committed by investors for the loan\n",
    "            'installment',               # monthly payment owed by the borrower\n",
    "           ]\n"
   ]
  },
  {
   "cell_type": "markdown",
   "metadata": {},
   "source": [
    "#### Skip observations with missing values"
   ]
  },
  {
   "cell_type": "code",
   "execution_count": 8,
   "metadata": {},
   "outputs": [
    {
     "name": "stdout",
     "output_type": "stream",
     "text": [
      "Dropping 29 observations; keeping 122578 \n"
     ]
    }
   ],
   "source": [
    "loans, loans_with_na = loans[[target]+features].dropna_split()\n",
    "\n",
    "num_rows_with_na = loans_with_na.num_rows()\n",
    "num_rows = loans.num_rows()\n",
    "print 'Dropping %s observations; keeping %s ' % (num_rows_with_na, num_rows)"
   ]
  },
  {
   "cell_type": "markdown",
   "metadata": {},
   "source": [
    "#### Make sure the classes are balanced"
   ]
  },
  {
   "cell_type": "code",
   "execution_count": 9,
   "metadata": {},
   "outputs": [
    {
     "name": "stdout",
     "output_type": "stream",
     "text": [
      "Percentage of safe loans                 : 0.502247166849\n",
      "Percentage of risky loans                : 0.497752833151\n",
      "Total number of loans in our new dataset : 46503\n"
     ]
    }
   ],
   "source": [
    "safe_loans_raw = loans[loans[target] == 1]\n",
    "risky_loans_raw = loans[loans[target] == -1]\n",
    "\n",
    "# Undersample the safe loans.\n",
    "percentage = len(risky_loans_raw)/float(len(safe_loans_raw))\n",
    "safe_loans = safe_loans_raw.sample(percentage, seed = 1)\n",
    "risky_loans = risky_loans_raw\n",
    "loans_data = risky_loans.append(safe_loans)\n",
    "\n",
    "print \"Percentage of safe loans                 :\", len(safe_loans) / float(len(loans_data))\n",
    "print \"Percentage of risky loans                :\", len(risky_loans) / float(len(loans_data))\n",
    "print \"Total number of loans in our new dataset :\", len(loans_data)"
   ]
  },
  {
   "cell_type": "markdown",
   "metadata": {},
   "source": [
    "#### One-hot Encoding"
   ]
  },
  {
   "cell_type": "code",
   "execution_count": 10,
   "metadata": {},
   "outputs": [
    {
     "data": {
      "text/plain": [
       "['safe_loans',\n",
       " 'sub_grade_num',\n",
       " 'short_emp',\n",
       " 'emp_length_num',\n",
       " 'dti',\n",
       " 'payment_inc_ratio',\n",
       " 'delinq_2yrs',\n",
       " 'delinq_2yrs_zero',\n",
       " 'inq_last_6mths',\n",
       " 'last_delinq_none',\n",
       " 'last_major_derog_none',\n",
       " 'open_acc',\n",
       " 'pub_rec',\n",
       " 'pub_rec_zero',\n",
       " 'revol_util',\n",
       " 'total_rec_late_fee',\n",
       " 'int_rate',\n",
       " 'total_rec_int',\n",
       " 'annual_inc',\n",
       " 'funded_amnt',\n",
       " 'funded_amnt_inv',\n",
       " 'installment',\n",
       " 'grade.A',\n",
       " 'grade.B',\n",
       " 'grade.C',\n",
       " 'grade.D',\n",
       " 'grade.E',\n",
       " 'grade.F',\n",
       " 'grade.G',\n",
       " 'home_ownership.MORTGAGE',\n",
       " 'home_ownership.OTHER',\n",
       " 'home_ownership.OWN',\n",
       " 'home_ownership.RENT',\n",
       " 'purpose.car',\n",
       " 'purpose.credit_card',\n",
       " 'purpose.debt_consolidation',\n",
       " 'purpose.home_improvement',\n",
       " 'purpose.house',\n",
       " 'purpose.major_purchase',\n",
       " 'purpose.medical',\n",
       " 'purpose.moving',\n",
       " 'purpose.other',\n",
       " 'purpose.small_business',\n",
       " 'purpose.vacation',\n",
       " 'purpose.wedding']"
      ]
     },
     "execution_count": 10,
     "metadata": {},
     "output_type": "execute_result"
    }
   ],
   "source": [
    "loans_data = risky_loans.append(safe_loans)\n",
    "\n",
    "categorical_variables = []\n",
    "for feat_name, feat_type in zip(loans_data.column_names(), loans_data.column_types()):\n",
    "    if feat_type == str:\n",
    "        categorical_variables.append(feat_name)\n",
    "\n",
    "for feature in categorical_variables:\n",
    "    loans_data_one_hot_encoded = loans_data[feature].apply(lambda x: {x: 1})\n",
    "    loans_data_unpacked = loans_data_one_hot_encoded.unpack(column_name_prefix=feature)\n",
    "\n",
    "    # Change None's to 0's\n",
    "    for column in loans_data_unpacked.column_names():\n",
    "        loans_data_unpacked[column] = loans_data_unpacked[column].fillna(0)\n",
    "\n",
    "    loans_data.remove_column(feature)\n",
    "    loans_data.add_columns(loans_data_unpacked)\n",
    "\n",
    "loans_data.column_names()"
   ]
  },
  {
   "cell_type": "markdown",
   "metadata": {},
   "source": [
    "#### Split data"
   ]
  },
  {
   "cell_type": "code",
   "execution_count": 11,
   "metadata": {
    "collapsed": true
   },
   "outputs": [],
   "source": [
    "train_data, validation_data = loans_data.random_split(.8,seed=1)"
   ]
  },
  {
   "cell_type": "code",
   "execution_count": 15,
   "metadata": {},
   "outputs": [
    {
     "data": {
      "text/plain": [
       "<bound method SFrame.column_types of Columns:\n",
       "\tsub_grade_num\tfloat\n",
       "\tshort_emp\tint\n",
       "\temp_length_num\tint\n",
       "\tdti\tfloat\n",
       "\tpayment_inc_ratio\tfloat\n",
       "\tdelinq_2yrs\tint\n",
       "\tdelinq_2yrs_zero\tint\n",
       "\tinq_last_6mths\tint\n",
       "\tlast_delinq_none\tint\n",
       "\tlast_major_derog_none\tint\n",
       "\topen_acc\tint\n",
       "\tpub_rec\tint\n",
       "\tpub_rec_zero\tint\n",
       "\trevol_util\tfloat\n",
       "\ttotal_rec_late_fee\tfloat\n",
       "\tint_rate\tfloat\n",
       "\ttotal_rec_int\tfloat\n",
       "\tannual_inc\tint\n",
       "\tfunded_amnt\tint\n",
       "\tfunded_amnt_inv\tint\n",
       "\tinstallment\tfloat\n",
       "\tgrade.A\tint\n",
       "\tgrade.B\tint\n",
       "\tgrade.C\tint\n",
       "\tgrade.D\tint\n",
       "\tgrade.E\tint\n",
       "\tgrade.F\tint\n",
       "\tgrade.G\tint\n",
       "\thome_ownership.MORTGAGE\tint\n",
       "\thome_ownership.OTHER\tint\n",
       "\thome_ownership.OWN\tint\n",
       "\thome_ownership.RENT\tint\n",
       "\tpurpose.car\tint\n",
       "\tpurpose.credit_card\tint\n",
       "\tpurpose.debt_consolidation\tint\n",
       "\tpurpose.home_improvement\tint\n",
       "\tpurpose.house\tint\n",
       "\tpurpose.major_purchase\tint\n",
       "\tpurpose.medical\tint\n",
       "\tpurpose.moving\tint\n",
       "\tpurpose.other\tint\n",
       "\tpurpose.small_business\tint\n",
       "\tpurpose.vacation\tint\n",
       "\tpurpose.wedding\tint\n",
       "\n",
       "Rows: 37219\n",
       "\n",
       "Data:\n",
       "+---------------+-----------+----------------+-------+-------------------+-------------+\n",
       "| sub_grade_num | short_emp | emp_length_num |  dti  | payment_inc_ratio | delinq_2yrs |\n",
       "+---------------+-----------+----------------+-------+-------------------+-------------+\n",
       "|      0.8      |     1     |       1        |  1.0  |       2.3932      |      0      |\n",
       "|      0.4      |     0     |       5        |  5.55 |       4.5717      |      0      |\n",
       "|      1.0      |     1     |       1        | 18.08 |       9.716       |      0      |\n",
       "|      0.2      |     1     |       1        | 10.08 |      12.2152      |      0      |\n",
       "|      0.4      |     0     |       4        |  7.06 |      3.90888      |      0      |\n",
       "|      0.8      |     0     |       11       | 13.22 |      8.01977      |      0      |\n",
       "|      0.6      |     0     |       2        |  2.4  |      3.13358      |      0      |\n",
       "|      0.4      |     0     |       10       | 15.22 |      10.2928      |      0      |\n",
       "|      0.2      |     0     |       9        |  9.12 |       7.2507      |      0      |\n",
       "|      1.0      |     0     |       5        | 20.88 |      10.1196      |      0      |\n",
       "+---------------+-----------+----------------+-------+-------------------+-------------+\n",
       "+------------------+----------------+------------------+-----------------------+\n",
       "| delinq_2yrs_zero | inq_last_6mths | last_delinq_none | last_major_derog_none |\n",
       "+------------------+----------------+------------------+-----------------------+\n",
       "|        1         |       5        |        1         |           1           |\n",
       "|        1         |       2        |        1         |           1           |\n",
       "|        1         |       0        |        1         |           1           |\n",
       "|        1         |       1        |        1         |           1           |\n",
       "|        1         |       2        |        1         |           1           |\n",
       "|        1         |       0        |        1         |           1           |\n",
       "|        1         |       1        |        1         |           1           |\n",
       "|        1         |       1        |        1         |           1           |\n",
       "|        1         |       2        |        1         |           1           |\n",
       "|        1         |       2        |        1         |           1           |\n",
       "+------------------+----------------+------------------+-----------------------+\n",
       "+----------+---------+--------------+------------+--------------------+----------+\n",
       "| open_acc | pub_rec | pub_rec_zero | revol_util | total_rec_late_fee | int_rate |\n",
       "+----------+---------+--------------+------------+--------------------+----------+\n",
       "|    3     |    0    |      1       |    9.4     |        0.0         |  15.27   |\n",
       "|    11    |    0    |      1       |    32.6    |        0.0         |  21.28   |\n",
       "|    2     |    0    |      1       |    36.5    |        0.0         |  12.69   |\n",
       "|    4     |    0    |      1       |    91.7    |        0.0         |  13.49   |\n",
       "|    14    |    0    |      1       |    55.5    |        0.0         |  10.65   |\n",
       "|    7     |    0    |      1       |    90.3    |        0.0         |  12.42   |\n",
       "|    7     |    0    |      1       |    29.7    |        0.0         |  11.71   |\n",
       "|    7     |    0    |      1       |    57.6    |        0.0         |  14.27   |\n",
       "|    9     |    0    |      1       |    63.7    |       24.17        |   9.91   |\n",
       "|    11    |    0    |      1       |    90.8    |        0.0         |  15.96   |\n",
       "+----------+---------+--------------+------------+--------------------+----------+\n",
       "+---------------+------------+-------------+-----------------+-----+\n",
       "| total_rec_int | annual_inc | funded_amnt | funded_amnt_inv | ... |\n",
       "+---------------+------------+-------------+-----------------+-----+\n",
       "|     435.17    |   30000    |     2500    |       2500      | ... |\n",
       "|     294.94    |   40000    |     5600    |       5600      | ... |\n",
       "|     533.42    |   15000    |     5375    |       5350      | ... |\n",
       "|     570.26    |   30000    |     9000    |       9000      | ... |\n",
       "|    1393.42    |   100000   |    10000    |      10000      | ... |\n",
       "|    3330.44    |   105000   |    21000    |      21000      | ... |\n",
       "|     475.25    |   76000    |     6000    |       6000      | ... |\n",
       "|      0.0      |   60000    |    15000    |       8725      | ... |\n",
       "|    2374.34    |   80000    |    15000    |      15000      | ... |\n",
       "|    1039.35    |   50000    |    12000    |      12000      | ... |\n",
       "+---------------+------------+-------------+-----------------+-----+\n",
       "[37219 rows x 44 columns]\n",
       "Note: Only the head of the SFrame is printed.\n",
       "You can use print_rows(num_rows=m, num_columns=n) to print more rows and columns.>"
      ]
     },
     "execution_count": 15,
     "metadata": {},
     "output_type": "execute_result"
    }
   ],
   "source": [
    "train_data.column_types"
   ]
  },
  {
   "cell_type": "markdown",
   "metadata": {},
   "source": [
    "#### Gradient Boosted Tree Classifier"
   ]
  },
  {
   "cell_type": "code",
   "execution_count": 22,
   "metadata": {},
   "outputs": [],
   "source": [
    "from sklearn.ensemble import GradientBoostingClassifier\n",
    "model_5 = GradientBoostingClassifier(max_depth = 6, n_estimators = 5)\n",
    "#train_target = train_data[target]\n",
    "#train_data.remove_column(target)\n",
    "train_data_frame = train_data.to_dataframe()\n",
    "#validation_target = validation_data[target]\n",
    "#validation_data.remove_column(target)\n",
    "validation_data_frame = validation_data.to_dataframe()\n",
    "validation_target = validation_target.to_numpy()\n",
    "model_5.fit(train_data_frame,train_target)\n",
    "predictions = model.predict(validation_data_frame)"
   ]
  },
  {
   "cell_type": "markdown",
   "metadata": {},
   "source": [
    "#### Compare models"
   ]
  },
  {
   "cell_type": "code",
   "execution_count": 23,
   "metadata": {},
   "outputs": [
    {
     "data": {
      "text/plain": [
       "GradientBoostingClassifier(criterion='friedman_mse', init=None,\n",
       "              learning_rate=0.1, loss='deviance', max_depth=6,\n",
       "              max_features=None, max_leaf_nodes=None,\n",
       "              min_impurity_split=1e-07, min_samples_leaf=1,\n",
       "              min_samples_split=2, min_weight_fraction_leaf=0.0,\n",
       "              n_estimators=500, presort='auto', random_state=None,\n",
       "              subsample=1.0, verbose=0, warm_start=False)"
      ]
     },
     "execution_count": 23,
     "metadata": {},
     "output_type": "execute_result"
    }
   ],
   "source": [
    "model_10 = GradientBoostingClassifier(max_depth = 6, n_estimators = 10)\n",
    "model_50 = GradientBoostingClassifier(max_depth = 6, n_estimators = 50)\n",
    "model_100 = GradientBoostingClassifier(max_depth = 6, n_estimators = 100)\n",
    "model_200 = GradientBoostingClassifier(max_depth = 6, n_estimators = 200)\n",
    "model_500 = GradientBoostingClassifier(max_depth = 6, n_estimators = 500)\n",
    "\n",
    "model_10.fit(train_data_frame,train_target)\n",
    "model_50.fit(train_data_frame,train_target)\n",
    "model_100.fit(train_data_frame,train_target)\n",
    "model_200.fit(train_data_frame,train_target)\n",
    "model_500.fit(train_data_frame,train_target)"
   ]
  },
  {
   "cell_type": "code",
   "execution_count": 36,
   "metadata": {},
   "outputs": [],
   "source": [
    "from sklearn.metrics import accuracy_score\n",
    "valid_prediction_5 = model_5.predict(validation_data_frame)\n",
    "valid_prediction_10 = model_10.predict(validation_data_frame)\n",
    "valid_prediction_50 = model_50.predict(validation_data_frame)\n",
    "valid_prediction_100 = model_100.predict(validation_data_frame)\n",
    "valid_prediction_200 = model_200.predict(validation_data_frame)\n",
    "valid_prediction_500 = model_500.predict(validation_data_frame)"
   ]
  },
  {
   "cell_type": "code",
   "execution_count": 38,
   "metadata": {},
   "outputs": [],
   "source": [
    "valid_accuracy_5 = accuracy_score(valid_prediction_5,validation_target)\n",
    "valid_accuracy_10 = accuracy_score(valid_prediction_10,validation_target)\n",
    "valid_accuracy_50 = accuracy_score(valid_prediction_50,validation_target)\n",
    "valid_accuracy_100 = accuracy_score(valid_prediction_100,validation_target)\n",
    "valid_accuracy_200 = accuracy_score(valid_prediction_200,validation_target)\n",
    "valid_accuracy_500 = accuracy_score(valid_prediction_500,validation_target)\n",
    "\n",
    "valid_errors = [1-valid_accuracy_5,1-valid_accuracy_10,1-valid_accuracy_50,1-valid_accuracy_100,1-valid_accuracy_200,1-valid_accuracy_500]"
   ]
  },
  {
   "cell_type": "code",
   "execution_count": 39,
   "metadata": {
    "collapsed": true
   },
   "outputs": [],
   "source": [
    "train_target = train_target.to_numpy()"
   ]
  },
  {
   "cell_type": "code",
   "execution_count": 40,
   "metadata": {
    "collapsed": true
   },
   "outputs": [],
   "source": [
    "train_prediction_5 = model_5.predict(train_data_frame)\n",
    "train_prediction_10 = model_10.predict(train_data_frame)\n",
    "train_prediction_50 = model_50.predict(train_data_frame)\n",
    "train_prediction_100 = model_100.predict(train_data_frame)\n",
    "train_prediction_200 = model_200.predict(train_data_frame)\n",
    "train_prediction_500 = model_500.predict(train_data_frame)\n",
    "\n",
    "train_accuracy_5 = accuracy_score(train_prediction_5,train_target)\n",
    "train_accuracy_10 = accuracy_score(train_prediction_10,train_target)\n",
    "train_accuracy_50 = accuracy_score(train_prediction_50,train_target)\n",
    "train_accuracy_100 = accuracy_score(train_prediction_100,train_target)\n",
    "train_accuracy_200 = accuracy_score(train_prediction_200,train_target)\n",
    "train_accuracy_500 = accuracy_score(train_prediction_500,train_target)\n",
    "\n",
    "train_errors = [1-train_accuracy_5,1-train_accuracy_10,1-train_accuracy_50,1-train_accuracy_100,1-train_accuracy_200,1-train_accuracy_500]"
   ]
  },
  {
   "cell_type": "markdown",
   "metadata": {},
   "source": [
    "#### Plot the classification error"
   ]
  },
  {
   "cell_type": "code",
   "execution_count": 35,
   "metadata": {
    "collapsed": true
   },
   "outputs": [],
   "source": [
    "import matplotlib.pyplot as plt\n",
    "%matplotlib inline\n",
    "def make_figure(dim, title, xlabel, ylabel, legend):\n",
    "    plt.rcParams['figure.figsize'] = dim\n",
    "    plt.title(title)\n",
    "    plt.xlabel(xlabel)\n",
    "    plt.ylabel(ylabel)\n",
    "    if legend is not None:\n",
    "        plt.legend(loc=legend, prop={'size':15})\n",
    "    plt.rcParams.update({'font.size': 16})\n",
    "    plt.tight_layout()"
   ]
  },
  {
   "cell_type": "code",
   "execution_count": 41,
   "metadata": {},
   "outputs": [
    {
     "data": {
      "image/png": "[encoded data removed]",
      "text/plain": [
       "<matplotlib.figure.Figure at 0x112450c90>"
      ]
     },
     "metadata": {},
     "output_type": "display_data"
    }
   ],
   "source": [
    "plt.plot([5,10, 50, 100, 200, 500], train_errors, linewidth=4.0, label='Training error')\n",
    "plt.plot([5,10, 50, 100, 200, 500], valid_errors, linewidth=4.0, label='Validation error')\n",
    "\n",
    "make_figure(dim=(10,5), title='Error vs number of trees',\n",
    "            xlabel='Number of trees',\n",
    "            ylabel='Classification error',\n",
    "            legend='best')"
   ]
  }
 ],
 "metadata": {
  "kernelspec": {
   "display_name": "Python 2",
   "language": "python",
   "name": "python2"
  },
  "language_info": {
   "codemirror_mode": {
    "name": "ipython",
    "version": 2
   },
   "file_extension": ".py",
   "mimetype": "text/x-python",
   "name": "python",
   "nbconvert_exporter": "python",
   "pygments_lexer": "ipython2",
   "version": "2.7.13"
  }
 },
 "nbformat": 4,
 "nbformat_minor": 2
}
