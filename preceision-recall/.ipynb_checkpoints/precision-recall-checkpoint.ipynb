{
 "cells": [
  {
   "cell_type": "markdown",
   "metadata": {},
   "source": [
    "#### Read Data"
   ]
  },
  {
   "cell_type": "code",
   "execution_count": 1,
   "metadata": {},
   "outputs": [
    {
     "name": "stderr",
     "output_type": "stream",
     "text": [
      "[INFO] sframe.cython.cy_server: SFrame v2.1 started. Logging /tmp/sframe_server_1503134538.log\n"
     ]
    }
   ],
   "source": [
    "import sframe\n",
    "products = sframe.SFrame('data1/')"
   ]
  },
  {
   "cell_type": "markdown",
   "metadata": {},
   "source": [
    "#### Clean data"
   ]
  },
  {
   "cell_type": "code",
   "execution_count": 2,
   "metadata": {
    "collapsed": true
   },
   "outputs": [],
   "source": [
    "def remove_punctuation(text):\n",
    "    import string\n",
    "    return text.translate(None,string.punctuation)\n",
    "\n",
    "products['review_clean'] = products['review'].apply(remove_punctuation)\n",
    "\n",
    "products = products[products['rating']!=3]\n",
    "products['sentiment'] = products['rating'].apply(lambda rating: +1 if rating > 3 else -1)\n"
   ]
  },
  {
   "cell_type": "markdown",
   "metadata": {},
   "source": [
    "#### Split into training set and test sets"
   ]
  },
  {
   "cell_type": "code",
   "execution_count": 3,
   "metadata": {
    "collapsed": true
   },
   "outputs": [],
   "source": [
    "train_data,test_data = products.random_split(.8,seed=1)"
   ]
  },
  {
   "cell_type": "markdown",
   "metadata": {},
   "source": [
    "#### Bag of words model"
   ]
  },
  {
   "cell_type": "code",
   "execution_count": 4,
   "metadata": {
    "collapsed": true
   },
   "outputs": [],
   "source": [
    "from sklearn.feature_extraction.text import CountVectorizer\n",
    "\n",
    "vectorizer = CountVectorizer(token_pattern=r'\\b\\w+\\b')\n",
    "\n",
    "train_matrix = vectorizer.fit_transform(train_data['review_clean'])\n",
    "test_matrix = vectorizer.transform(test_data['review_clean'])"
   ]
  },
  {
   "cell_type": "markdown",
   "metadata": {},
   "source": [
    "#### Use Logistic Regression"
   ]
  },
  {
   "cell_type": "code",
   "execution_count": 5,
   "metadata": {},
   "outputs": [
    {
     "data": {
      "text/plain": [
       "LogisticRegression(C=1.0, class_weight=None, dual=False, fit_intercept=True,\n",
       "          intercept_scaling=1, max_iter=100, multi_class='ovr', n_jobs=1,\n",
       "          penalty='l2', random_state=None, solver='liblinear', tol=0.0001,\n",
       "          verbose=0, warm_start=False)"
      ]
     },
     "execution_count": 5,
     "metadata": {},
     "output_type": "execute_result"
    }
   ],
   "source": [
    "from sklearn.linear_model import LogisticRegression\n",
    "\n",
    "model = LogisticRegression()\n",
    "model.fit(train_matrix,train_data['sentiment'])"
   ]
  },
  {
   "cell_type": "markdown",
   "metadata": {},
   "source": [
    "#### Accuracy"
   ]
  },
  {
   "cell_type": "code",
   "execution_count": 6,
   "metadata": {},
   "outputs": [
    {
     "name": "stdout",
     "output_type": "stream",
     "text": [
      "Test Accuracy: 0.932265418766\n"
     ]
    }
   ],
   "source": [
    "from sklearn.metrics import accuracy_score\n",
    "\n",
    "accuracy = accuracy_score(test_data['sentiment'].to_numpy(),model.predict(test_matrix))\n",
    "\n",
    "print \"Test Accuracy: %s\" % accuracy"
   ]
  },
  {
   "cell_type": "markdown",
   "metadata": {},
   "source": [
    "#### Majority Class Classifier"
   ]
  },
  {
   "cell_type": "code",
   "execution_count": 8,
   "metadata": {},
   "outputs": [
    {
     "name": "stdout",
     "output_type": "stream",
     "text": [
      "Baseline accuracy (majority class classifier): 0.842782577394\n"
     ]
    }
   ],
   "source": [
    "baseline = len(test_data[test_data['sentiment'] == 1]) / float(len(test_data))\n",
    "print \"Baseline accuracy (majority class classifier): %s\" %baseline"
   ]
  },
  {
   "cell_type": "markdown",
   "metadata": {},
   "source": [
    "#### Confusion Matirx"
   ]
  },
  {
   "cell_type": "code",
   "execution_count": 9,
   "metadata": {},
   "outputs": [
    {
     "name": "stdout",
     "output_type": "stream",
     "text": [
      " target_label | predicted_label | count \n",
      "--------------+-----------------+-------\n",
      "     -1       |       -1        |  3788\n",
      "     -1       |        1        |  1453\n",
      "      1       |       -1        |   805\n",
      "      1       |        1        | 27290\n"
     ]
    }
   ],
   "source": [
    "from sklearn.metrics import confusion_matrix\n",
    "cmat = confusion_matrix(y_true=test_data['sentiment'].to_numpy(),\n",
    "                        y_pred=model.predict(test_matrix),\n",
    "                        labels=model.classes_)    # use the same order of class as the LR model.\n",
    "print ' target_label | predicted_label | count '\n",
    "print '--------------+-----------------+-------'\n",
    "# Print out the confusion matrix.\n",
    "# NOTE: Your tool may arrange entries in a different order. Consult appropriate manuals.\n",
    "for i, target_label in enumerate(model.classes_):\n",
    "    for j, predicted_label in enumerate(model.classes_):\n",
    "        print '{0:^13} | {1:^15} | {2:5d}'.format(target_label, predicted_label, cmat[i,j])"
   ]
  },
  {
   "cell_type": "markdown",
   "metadata": {},
   "source": [
    "#### Precision and Recall"
   ]
  },
  {
   "cell_type": "code",
   "execution_count": 12,
   "metadata": {},
   "outputs": [
    {
     "name": "stdout",
     "output_type": "stream",
     "text": [
      "Precision on test data: 0.949448561389\n"
     ]
    }
   ],
   "source": [
    "from sklearn.metrics import precision_score\n",
    "\n",
    "precision = precision_score(test_data['sentiment'].to_numpy(),model.predict(test_matrix))\n",
    "print \"Precision on test data: %s\" % precision"
   ]
  },
  {
   "cell_type": "code",
   "execution_count": 15,
   "metadata": {},
   "outputs": [
    {
     "name": "stdout",
     "output_type": "stream",
     "text": [
      "REcall on test data: 0.971347214807\n"
     ]
    }
   ],
   "source": [
    "from sklearn.metrics import recall_score\n",
    "recall = recall_score(test_data['sentiment'].to_numpy(),model.predict(test_matrix))\n",
    "print \"REcall on test data: %s\" %recall"
   ]
  },
  {
   "cell_type": "markdown",
   "metadata": {},
   "source": [
    "#### Change prediction threshold"
   ]
  },
  {
   "cell_type": "code",
   "execution_count": 45,
   "metadata": {},
   "outputs": [
    {
     "data": {
      "text/plain": [
       "array([1, 1, 1, ..., 1, 1, 1])"
      ]
     },
     "execution_count": 45,
     "metadata": {},
     "output_type": "execute_result"
    }
   ],
   "source": [
    "def apply_threshold(prob,thre):\n",
    "    \n",
    "    return sframe.SArray(prob).apply(lambda pro: +1 if pro > thre else -1).to_numpy()\n",
    "\n",
    "probabilities = model.predict_proba(test_matrix)[:,1]\n",
    "predictions_point_5 = apply_threshold(probabilities,0.5)\n",
    "len(predictions_point_5)\n",
    "model.predict(test_matrix)"
   ]
  },
  {
   "cell_type": "code",
   "execution_count": 52,
   "metadata": {},
   "outputs": [
    {
     "data": {
      "text/plain": [
       "0.94944856138885991"
      ]
     },
     "execution_count": 52,
     "metadata": {},
     "output_type": "execute_result"
    }
   ],
   "source": [
    "precision_score(np.array(test_data['sentiment']),predictions_point_5)"
   ]
  },
  {
   "cell_type": "code",
   "execution_count": 35,
   "metadata": {},
   "outputs": [
    {
     "data": {
      "text/plain": [
       "array([-1,  1,  1, ...,  1,  1,  1])"
      ]
     },
     "execution_count": 35,
     "metadata": {},
     "output_type": "execute_result"
    }
   ],
   "source": [
    "predictions_point_9 = apply_threshold(probabilities,0.9)\n",
    "predictions_point_9"
   ]
  },
  {
   "cell_type": "markdown",
   "metadata": {},
   "source": [
    "#### Precision-recall Curve"
   ]
  },
  {
   "cell_type": "code",
   "execution_count": 53,
   "metadata": {},
   "outputs": [
    {
     "name": "stderr",
     "output_type": "stream",
     "text": [
      "/Users/ziaochen/anaconda/lib/python2.7/site-packages/sklearn/metrics/classification.py:1113: UndefinedMetricWarning: Precision is ill-defined and being set to 0.0 due to no predicted samples.\n",
      "  'precision', 'predicted', average, warn_for)\n"
     ]
    },
    {
     "data": {
      "text/plain": [
       "[0.94944856138885991,\n",
       " 0.9499233876584483,\n",
       " 0.95040083652840712,\n",
       " 0.95091232599518538,\n",
       " 0.95133361262393523,\n",
       " 0.95177860088056465,\n",
       " 0.95202629462568622,\n",
       " 0.95227598754417275,\n",
       " 0.95288966725043778,\n",
       " 0.9532087904384704,\n",
       " 0.95355526712737226,\n",
       " 0.95386559932588999,\n",
       " 0.95422609428792249,\n",
       " 0.95444479595064857,\n",
       " 0.95489092188599578,\n",
       " 0.95513294594118681,\n",
       " 0.95554066918168035,\n",
       " 0.9559586406465046,\n",
       " 0.9562345460967856,\n",
       " 0.95648639095086607,\n",
       " 0.9570371943235304,\n",
       " 0.95731793709266078,\n",
       " 0.95770403460256681,\n",
       " 0.95793132803632242,\n",
       " 0.95821796237131696,\n",
       " 0.95874200426439238,\n",
       " 0.95912777461582244,\n",
       " 0.95964956016952174,\n",
       " 0.96010552960889872,\n",
       " 0.96066393003747996,\n",
       " 0.96105334619644833,\n",
       " 0.96140639530724659,\n",
       " 0.96196683737420763,\n",
       " 0.96221409622140963,\n",
       " 0.96271441900523935,\n",
       " 0.96296429341188305,\n",
       " 0.96328658755843222,\n",
       " 0.96390749945969312,\n",
       " 0.96422259891080897,\n",
       " 0.96466086705410969,\n",
       " 0.96479560487223048,\n",
       " 0.96508304085103302,\n",
       " 0.96546976339722457,\n",
       " 0.96563860667634249,\n",
       " 0.96603581677503725,\n",
       " 0.96628600523712538,\n",
       " 0.96674679487179482,\n",
       " 0.96717005909389364,\n",
       " 0.96766414556615143,\n",
       " 0.96804889653405557,\n",
       " 0.96829992304027557,\n",
       " 0.96891172692237104,\n",
       " 0.96933823529411767,\n",
       " 0.96980631858016053,\n",
       " 0.97022799380211022,\n",
       " 0.97064912021292327,\n",
       " 0.97115883006293968,\n",
       " 0.97158542918614144,\n",
       " 0.97201991676575505,\n",
       " 0.97242380261248185,\n",
       " 0.97345896839102031,\n",
       " 0.97411879772787124,\n",
       " 0.974285498831159,\n",
       " 0.97472419525464715,\n",
       " 0.97501230454700338,\n",
       " 0.9755125284738041,\n",
       " 0.97601279317697232,\n",
       " 0.97614958977294408,\n",
       " 0.97644989868868759,\n",
       " 0.97673794742086306,\n",
       " 0.97728408348387596,\n",
       " 0.97755841752140049,\n",
       " 0.97812536296411012,\n",
       " 0.97870604235476977,\n",
       " 0.97922513252260679,\n",
       " 0.97977387426157037,\n",
       " 0.98015795057168675,\n",
       " 0.98054382572319354,\n",
       " 0.98100111058226247,\n",
       " 0.98150583921240386,\n",
       " 0.98196537351715296,\n",
       " 0.98275862068965514,\n",
       " 0.98318408363385879,\n",
       " 0.98341909662664384,\n",
       " 0.98395259844463645,\n",
       " 0.98431925661661002,\n",
       " 0.98508900523560206,\n",
       " 0.98545577541011331,\n",
       " 0.98614733421693956,\n",
       " 0.98667647186053553,\n",
       " 0.98717779826988095,\n",
       " 0.98777549745694659,\n",
       " 0.98843351548269576,\n",
       " 0.98896802122608574,\n",
       " 0.9895993098159509,\n",
       " 0.99043634190077701,\n",
       " 0.99088575768686815,\n",
       " 0.99214927750597337,\n",
       " 0.99279327372214066,\n",
       " 0.0]"
      ]
     },
     "execution_count": 53,
     "metadata": {},
     "output_type": "execute_result"
    }
   ],
   "source": [
    "import numpy as np\n",
    "threshold_values = np.linspace(0.5,1,num = 100)\n",
    "precision_all = []\n",
    "recall_all = []\n",
    "for thre in threshold_values:\n",
    "    precision_all.append(precision_score(list(test_data['sentiment']),apply_threshold(model.predict_proba(test_matrix)[:,1],thre)))\n",
    "    recall_all.append(recall_score(list(test_data['sentiment']),apply_threshold(model.predict_proba(test_matrix)[:,1],thre)))\n",
    "precision_all"
   ]
  },
  {
   "cell_type": "code",
   "execution_count": 59,
   "metadata": {},
   "outputs": [
    {
     "data": {
      "text/plain": [
       "[0.97134721480690511,\n",
       " 0.97092009254315714,\n",
       " 0.97052856380138819,\n",
       " 0.97013703505961912,\n",
       " 0.96992347392774514,\n",
       " 0.96949635166399717,\n",
       " 0.9691048229222281,\n",
       " 0.96874888770243817,\n",
       " 0.9683217654386902,\n",
       " 0.96800142374087916,\n",
       " 0.96753870795515218,\n",
       " 0.96700480512546716,\n",
       " 0.96682683751557219,\n",
       " 0.96647090229578214,\n",
       " 0.96593699946609712,\n",
       " 0.96533190959245418,\n",
       " 0.96465563267485321,\n",
       " 0.96419291688912623,\n",
       " 0.96355223349350416,\n",
       " 0.96312511122975619,\n",
       " 0.96255561487809216,\n",
       " 0.96198611852642824,\n",
       " 0.96148780921872223,\n",
       " 0.96123865456486923,\n",
       " 0.96077593877914225,\n",
       " 0.96027762947143624,\n",
       " 0.95970813311977221,\n",
       " 0.95910304324612916,\n",
       " 0.95853354689446524,\n",
       " 0.95792845702082219,\n",
       " 0.95735896066915827,\n",
       " 0.9567182772735362,\n",
       " 0.95607759387791424,\n",
       " 0.95533012991635524,\n",
       " 0.95486741413062826,\n",
       " 0.95415554369104827,\n",
       " 0.9535148602954262,\n",
       " 0.95248264815803518,\n",
       " 0.95159281010856023,\n",
       " 0.95120128136679127,\n",
       " 0.95009788218544222,\n",
       " 0.94935041822388322,\n",
       " 0.94842498665242925,\n",
       " 0.94725040042712227,\n",
       " 0.9465741235095213,\n",
       " 0.94568428546004624,\n",
       " 0.94475885388859226,\n",
       " 0.94372664175120125,\n",
       " 0.94265883609183132,\n",
       " 0.94144865634454533,\n",
       " 0.94045203772913333,\n",
       " 0.93959779320163728,\n",
       " 0.93845880049830932,\n",
       " 0.93746218188289732,\n",
       " 0.93607403452571636,\n",
       " 0.93461470012457737,\n",
       " 0.93365367503114438,\n",
       " 0.93226552767396331,\n",
       " 0.93109094144865634,\n",
       " 0.93005872931126532,\n",
       " 0.92297561843744436,\n",
       " 0.92169425164620045,\n",
       " 0.91973660793735545,\n",
       " 0.91827727353621635,\n",
       " 0.9166399715251824,\n",
       " 0.91457554725040047,\n",
       " 0.91240434240968149,\n",
       " 0.9104822922228154,\n",
       " 0.90909414486563445,\n",
       " 0.90717209467876847,\n",
       " 0.90500088983804949,\n",
       " 0.90236696921160353,\n",
       " 0.89923473927745146,\n",
       " 0.89649403808506856,\n",
       " 0.89421605267841253,\n",
       " 0.89140416444207149,\n",
       " 0.88791599928812959,\n",
       " 0.88435664709022954,\n",
       " 0.88033457910660262,\n",
       " 0.87649047873287067,\n",
       " 0.87211247552945359,\n",
       " 0.86833956219967967,\n",
       " 0.86364121729845167,\n",
       " 0.85709200925431572,\n",
       " 0.85114789108382272,\n",
       " 0.84456308951770775,\n",
       " 0.83712404342409685,\n",
       " 0.82961381028652781,\n",
       " 0.82096458444563092,\n",
       " 0.81185264281900693,\n",
       " 0.80017796760989501,\n",
       " 0.78804057661505611,\n",
       " 0.77259298807617016,\n",
       " 0.75621996796583024,\n",
       " 0.73489944830040932,\n",
       " 0.70774159103043244,\n",
       " 0.67332265527673962,\n",
       " 0.62075102331375687,\n",
       " 0.52956042000355941,\n",
       " 0.0]"
      ]
     },
     "execution_count": 59,
     "metadata": {},
     "output_type": "execute_result"
    }
   ],
   "source": [
    "recall_all"
   ]
  },
  {
   "cell_type": "code",
   "execution_count": 60,
   "metadata": {
    "collapsed": true
   },
   "outputs": [],
   "source": [
    "def plot_pr_curve(precision, recall, title):\n",
    "    plt.rcParams['figure.figsize'] = 7, 5\n",
    "    plt.locator_params(axis = 'x', nbins = 5)\n",
    "    plt.plot(precision, recall, 'b-', linewidth=4.0, color = '#B0017F')\n",
    "    plt.title(title)\n",
    "    plt.xlabel('Precision')\n",
    "    plt.ylabel('Recall')\n",
    "    plt.rcParams.update({'font.size': 16})"
   ]
  },
  {
   "cell_type": "code",
   "execution_count": 62,
   "metadata": {},
   "outputs": [
    {
     "data": {
      "image/png": "[encoded data removed]",
      "text/plain": [
       "<matplotlib.figure.Figure at 0x11c437e90>"
      ]
     },
     "metadata": {},
     "output_type": "display_data"
    }
   ],
   "source": [
    "import matplotlib.pyplot as plt\n",
    "precision_all[len(precision_all)-1] = 1\n",
    "plot_pr_curve(precision_all, recall_all, 'Precision recall curve (all)')\n",
    "plt.show()"
   ]
  }
 ],
 "metadata": {
  "kernelspec": {
   "display_name": "Python 2",
   "language": "python",
   "name": "python2"
  },
  "language_info": {
   "codemirror_mode": {
    "name": "ipython",
    "version": 2
   },
   "file_extension": ".py",
   "mimetype": "text/x-python",
   "name": "python",
   "nbconvert_exporter": "python",
   "pygments_lexer": "ipython2",
   "version": "2.7.13"
  }
 },
 "nbformat": 4,
 "nbformat_minor": 2
}
